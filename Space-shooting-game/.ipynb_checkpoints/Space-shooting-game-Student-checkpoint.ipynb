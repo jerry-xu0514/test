{
 "cells": [
  {
   "cell_type": "markdown",
   "metadata": {
    "id": "pwf3VAYHHzbQ"
   },
   "source": [
    "#Space Shooting Game\n",
    "\n",
    "You’ll design a shooting game. When you press the spacebar, the shot will go forward and kill the aliens. When you kill aliens as many as you can, your score will be higher!"
   ]
  },
  {
   "cell_type": "markdown",
   "metadata": {
    "id": "gGE_Tf2w7SED"
   },
   "source": [
    "##Connect to google drive\n",
    "\n",
    "To use images, sounds from google drive, you need to connect to google drive"
   ]
  },
  {
   "cell_type": "code",
   "execution_count": null,
   "metadata": {
    "id": "Af1crA2U7jE0"
   },
   "outputs": [],
   "source": [
    "from google.colab import drive\n",
    "drive.mount('/content/drive')"
   ]
  },
  {
   "cell_type": "markdown",
   "metadata": {
    "id": "vNrLG9BF7hB1"
   },
   "source": [
    "##Import libraries\n",
    "\n",
    "To make the game, import the libraries.    \n",
    "In this project, you’ll use ‘pygame’, ‘random' ,'math' library\n",
    "\n",
    "Install the ‘pygame’ library.  \n",
    "(‘random’ library are already in python)  \n",
    "(Hint: pip install ‘pygame’ )  \n",
    "\n",
    "If you installed them, import the three libraries.\n",
    "Hint:  \n",
    "```\n",
    "from pygame import mixer \n",
    "```\n",
    "\n"
   ]
  },
  {
   "cell_type": "code",
   "execution_count": null,
   "metadata": {
    "id": "kzcsWTeWqELd"
   },
   "outputs": [],
   "source": [
    "pip install pygame"
   ]
  },
  {
   "cell_type": "code",
   "execution_count": null,
   "metadata": {
    "id": "bHkxG86SqC65"
   },
   "outputs": [],
   "source": [
    "import math\n",
    "import random\n",
    "import pygame\n",
    "from pygame import mixer"
   ]
  },
  {
   "cell_type": "markdown",
   "metadata": {
    "id": "t9sR98ruQhCS"
   },
   "source": [
    "##Initialize Game Components\n",
    "\n",
    "- Load Game components' images  \n",
    "Hint: `pygame.image.load()`  \n",
    "- Set fonts to use in the game  \n",
    "Hint: `pygame.font.Font(font_name, font_size)`"
   ]
  },
  {
   "cell_type": "code",
   "execution_count": null,
   "metadata": {
    "id": "MOJ9nsdbpJTF"
   },
   "outputs": [],
   "source": [
    "# Intialize the pygame\n",
    "pygame.init()\n",
    "\n",
    "# create the screen\n",
    "screen = pygame.display.set_mode((800, 600))\n",
    "\n",
    "##TODO##Load game components' images(background, bullet, player images)\n",
    "\n",
    "\n",
    "# Sound\n",
    "mixer.music.load(\"background.wav\") #Set background sound\n",
    "mixer.music.play(-1) #Negative value is repeated until the end\n",
    "\n",
    "# Caption and Icon\n",
    "pygame.display.set_caption(\"Space Invader\")\n",
    "icon = pygame.image.load('ufo.png')\n",
    "pygame.display.set_icon(icon)\n",
    "\n",
    "#Initialize Player's x and y coordinate \n",
    "playerX = 370\n",
    "playerY = 480\n",
    "playerX_change = 0\n",
    "\n",
    "#Initialize Enemies' x,y coordinate and changes of x, y values\n",
    "enemyImg = []\n",
    "enemyX = []\n",
    "enemyY = []\n",
    "enemyX_change = []\n",
    "enemyY_change = []\n",
    "num_of_enemies = 6\n",
    "\n",
    "for i in range(num_of_enemies):\n",
    "    enemyImg.append(pygame.image.load('enemy.png'))\n",
    "    enemyX.append(random.randint(0, 736))\n",
    "    enemyY.append(random.randint(50, 150))\n",
    "    enemyX_change.append(4)\n",
    "    enemyY_change.append(40)\n",
    "\n",
    "#Initialize Bullet x, y coordinate and change value of x, y\n",
    "bulletX = 0\n",
    "bulletY = 480\n",
    "bulletX_change = 0\n",
    "bulletY_change = 10\n",
    "bullet_state = \"ready\" # When it is ready state, You can't see the bullet on the screen / When it is fire state, the bullet is currently moving\n",
    "\n",
    "##TODO##Set fonts(normal as 32 size font and game over font as 64 size) with freesansbold.ttf\n",
    "\n",
    "\n",
    "score_value = 0\n",
    "\n",
    "textX = 10\n",
    "testY = 10\n",
    "\n",
    "def show_score(x, y):\n",
    "    score = font.render(\"Score : \" + str(score_value), True, (255, 255, 255))\n",
    "    screen.blit(score, (x, y))\n",
    "\n",
    "\n",
    "def game_over_text():\n",
    "    over_text = over_font.render(\"GAME OVER\", True, (255, 255, 255))\n",
    "    screen.blit(over_text, (200, 250))\n",
    "\n",
    "def enemy(x, y, i):\n",
    "    screen.blit(enemyImg[i], (x, y))\n",
    "\n",
    "##TODO##Define player function to show player image on x,y coordinate \n",
    "\n",
    "\n",
    "##TODO##Define fire bullet function to show bullet image on x+16, y+10 and change bullet state\n",
    "\n",
    "\n",
    "def isCollision(enemyX, enemyY, bulletX, bulletY):\n",
    "    distance = math.sqrt(math.pow(enemyX - bulletX, 2) + (math.pow(enemyY - bulletY, 2)))\n",
    "    if distance < 27:\n",
    "        return True\n",
    "    else:\n",
    "        return False"
   ]
  },
  {
   "cell_type": "markdown",
   "metadata": {
    "id": "FAxRY1lpSVRL"
   },
   "source": [
    "##Define Game Loop\n",
    "\n",
    "This loop is for running the game  \n",
    "- You need to handle events from the user.   \n",
    "When the user doesn't press key, stop changing player's x position\n",
    "- Change enemy's movement  \n",
    "Check Collision and if collision is occured, play the sound, update the score, and change enemy's x, y's coordinate"
   ]
  },
  {
   "cell_type": "code",
   "execution_count": null,
   "metadata": {
    "id": "Irsb65GSpTOV"
   },
   "outputs": [],
   "source": [
    "running = True\n",
    "while running:\n",
    "\n",
    "    # RGB = Red, Green, Blue\n",
    "    screen.fill((0, 0, 0))\n",
    "    # Background Image\n",
    "    screen.blit(background, (0, 0))\n",
    "    for event in pygame.event.get():\n",
    "        if event.type == pygame.QUIT:\n",
    "            running = False\n",
    "\n",
    "        ##TODO##Handle events from the user\n",
    "        ###TODO###When the user press any key\n",
    "\n",
    "            ###TODO###When the user press left key, change player's x value\n",
    "\n",
    "            ###TODO###When the user press right key, change player's x value\n",
    "\n",
    "            ###TODO###When the user press space key, shoot bullet with sound after checking bullet's state is ready\n",
    "\n",
    "                    ##Hint##Get the current x cordinate of the spaceship and set the bullet x cordinate as same as player\n",
    "\n",
    "                    ##Hint##Shoot a bullet\n",
    "\n",
    "\n",
    "        ##TODO##When the user doesn't press key, stop chaning player's x position\n",
    "\n",
    "\n",
    "    playerX += playerX_change\n",
    "    if playerX <= 0:\n",
    "        playerX = 0\n",
    "    elif playerX >= 736:\n",
    "        playerX = 736\n",
    "\n",
    "    # Enemy Movement\n",
    "    for i in range(num_of_enemies):\n",
    "        # Game Over\n",
    "        if enemyY[i] > 440:\n",
    "            for j in range(num_of_enemies):\n",
    "                enemyY[j] = 2000\n",
    "            game_over_text()\n",
    "            break\n",
    "\n",
    "        enemyX[i] += enemyX_change[i]\n",
    "        if enemyX[i] <= 0:\n",
    "            enemyX_change[i] = 4\n",
    "            enemyY[i] += enemyY_change[i]\n",
    "        elif enemyX[i] >= 736:\n",
    "            enemyX_change[i] = -4\n",
    "            enemyY[i] += enemyY_change[i]\n",
    "\n",
    "        #Check Collision and if collision is occured, play the sound, update the score, and change enemy's x, y's coordinate\n",
    "        collision = isCollision(enemyX[i], enemyY[i], bulletX, bulletY)\n",
    "        if collision:\n",
    "            explosionSound = mixer.Sound(\"explosion.wav\")\n",
    "            explosionSound.play()\n",
    "            bulletY = 480\n",
    "            bullet_state = \"ready\"\n",
    "            score_value += 1\n",
    "            enemyX[i] = random.randint(0, 736)\n",
    "            enemyY[i] = random.randint(50, 150)\n",
    "\n",
    "        enemy(enemyX[i], enemyY[i], i)\n",
    "\n",
    "    if bulletY <= 0:\n",
    "        bulletY = 480\n",
    "        bullet_state = \"ready\"\n",
    "\n",
    "    if bullet_state is \"fire\":\n",
    "        fire_bullet(bulletX, bulletY)\n",
    "        bulletY -= bulletY_change\n",
    "\n",
    "    player(playerX, playerY)\n",
    "    show_score(textX, testY)\n",
    "    pygame.display.update()"
   ]
  }
 ],
 "metadata": {
  "colab": {
   "authorship_tag": "ABX9TyMdUQf0shG5On6w6hzlnN+/",
   "collapsed_sections": [],
   "name": "Space-shooting-game-Student.ipynb",
   "provenance": []
  },
  "kernelspec": {
   "display_name": "Python 3",
   "language": "python",
   "name": "python3"
  },
  "language_info": {
   "codemirror_mode": {
    "name": "ipython",
    "version": 3
   },
   "file_extension": ".py",
   "mimetype": "text/x-python",
   "name": "python",
   "nbconvert_exporter": "python",
   "pygments_lexer": "ipython3",
   "version": "3.7.6"
  }
 },
 "nbformat": 4,
 "nbformat_minor": 1
}
